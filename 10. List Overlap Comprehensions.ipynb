{
 "cells": [
  {
   "cell_type": "markdown",
   "metadata": {},
   "source": [
    "https://www.practicepython.org/exercise/2014/04/10/10-list-overlap-comprehensions.html\n",
    "\n",
    "# Exercise 10 List Overlap Comprehensions\n",
    "    \n",
    "This week’s exercise is going to be revisiting an old exercise (see Exercise 5), except require the solution in a different way.\n",
    "\n",
    "Take two lists, say for example these two:\n",
    "\n",
    "\ta = [1, 1, 2, 3, 5, 8, 13, 21, 34, 55, 89]\n",
    "\tb = [1, 2, 3, 4, 5, 6, 7, 8, 9, 10, 11, 12, 13]\n",
    "and write a program that returns a list that contains only the elements that are common between the lists (without duplicates). Make sure your program works on two lists of different sizes. Write this in one line of Python using at least one list comprehension. (Hint: Remember list comprehensions from Exercise 7).\n",
    "\n",
    "The original formulation of this exercise said to write the solution using one line of Python, but a few readers pointed out that this was impossible to do without using sets that I had not yet discussed on the blog, so you can either choose to use the original directive and read about the [set command in Python 3.3](https://docs.python.org/3.3/library/stdtypes.html?highlight=set#set), or try to implement this on your own and use at least one list comprehension in the solution.\n",
    "\n",
    "Extra:\n",
    "\n",
    "Randomly generate two lists to test this\n",
    "\n",
    "## Discussion\n",
    "\n",
    "Concepts for this week:\n",
    "\n",
    "1. List comprehensions\n",
    "2. Random numbers, continued\n",
    "\n",
    "### 1. List comprehensions\n",
    "\n",
    "We already discussed list comprehensions in Exercise 7, but they can be made much more complicated.\n",
    "\n",
    "For example:\n",
    "\n",
    "\tx = [1, 2, 3]\n",
    "\ty = [5, 10, 15]\n",
    "\tallproducts = [a*b for a in x for b in y]\n",
    "At the end of this piece of code, allproducts will contain the list [5, 10, 15, 10, 20, 30, 15, 30, 45]. So you can put multiple for loops inside the comprehension. But you can also add more complicated conditionals:\n",
    "\n",
    "\tx = [1, 2, 3]\n",
    "\ty = [5, 10, 15]\n",
    "\tcustomlist = [a*b for a in x for b in y if a*b%2 != 0]\n",
    "Now customlist contains [5, 15, 15, 45] because only the odd products are added to the list.\n",
    "\n",
    "In general, the list comprehension takes the form:\n",
    "\n",
    "\t[EXPRESSION FOR_LOOPS CONDITIONALS]\n",
    "as shown in the examples above.\n",
    "\n",
    "### 2. Random numbers, continued\n",
    "\n",
    "Try to use the [Python random documentation](https://docs.python.org/3.3/library/random.html#random.randint) to figure out how to generate a random list. As a hint look below:\n",
    "\n",
    "\ta = random.sample(range(100), 5)\n",
    "This line of code will leave a containing a list of 5 random numbers from 0 to 99.\n"
   ]
  },
  {
   "cell_type": "markdown",
   "metadata": {},
   "source": [
    "---"
   ]
  },
  {
   "cell_type": "markdown",
   "metadata": {},
   "source": [
    "**Create a 2 random list**"
   ]
  },
  {
   "cell_type": "code",
   "execution_count": 12,
   "metadata": {},
   "outputs": [
    {
     "name": "stdout",
     "output_type": "stream",
     "text": [
      "[20, 19, 0, 29, 27, 21, 14, 41, 3, 10, 28, 43, 8, 42, 36, 49, 31, 18, 13, 23, 32, 1, 15, 12, 33, 44, 34, 22, 47, 11, 14, 32, 35, 25, 46, 30, 38, 37, 7, 1, 4, 8, 43, 27, 0, 6, 34, 48, 22, 40, 3, 15, 5, 28, 24, 9, 41, 13, 12, 39] \n",
      " [21, 38, 49, 48, 41, 34, 14, 11, 37, 18, 47, 9, 8, 26, 30, 0, 6, 2, 42, 7, 35, 5, 31, 23, 28, 22, 33, 17, 46, 27, 45, 13, 20, 43, 25, 39, 24, 12, 1, 3, 10, 19, 29, 32, 36, 40, 15, 44, 4, 16, 0, 1, 2, 3, 4, 5, 6, 7, 8, 9, 10]\n"
     ]
    }
   ],
   "source": [
    "# useful combo to generate random list of numbers from integers population range is to use random.sample and range(x) \n",
    "# random.sample is a sampling without replacement so all sampling are unique already \n",
    "import random \n",
    "a=random.sample(range(50), 30)\n",
    "b=random.sample(range(50), 50) \n",
    "print (a,'\\n', b)\n",
    "#help(random)"
   ]
  },
  {
   "cell_type": "markdown",
   "metadata": {},
   "source": [
    "**By using a simple list comprehension we can have a result of the common element but it will also give us dupliacte case**"
   ]
  },
  {
   "cell_type": "code",
   "execution_count": 9,
   "metadata": {},
   "outputs": [],
   "source": [
    "def Common(x,y):\n",
    "    \n",
    "    try: \n",
    "        c= [i for i in x if i in y]\n",
    "        return c\n",
    "    except:\n",
    "        print('there was a mistake in the code')\n",
    "        "
   ]
  },
  {
   "cell_type": "code",
   "execution_count": 13,
   "metadata": {},
   "outputs": [
    {
     "name": "stdout",
     "output_type": "stream",
     "text": [
      "[20, 19, 0, 29, 27, 21, 14, 41, 3, 10, 28, 43, 8, 42, 36, 49, 31, 18, 13, 23, 32, 1, 15, 12, 33, 44, 34, 22, 47, 11, 14, 32, 35, 25, 46, 30, 38, 37, 7, 1, 4, 8, 43, 27, 0, 6, 34, 48, 22, 40, 3, 15, 5, 28, 24, 9, 41, 13, 12, 39]\n"
     ]
    }
   ],
   "source": [
    "print(Common(a,b))"
   ]
  },
  {
   "cell_type": "markdown",
   "metadata": {},
   "source": [
    "**In order to avoid duplicate case we will need to consider the use of set ( set are tranforming a list in an object that doesnt have order and no duplicate)**"
   ]
  },
  {
   "cell_type": "code",
   "execution_count": 14,
   "metadata": {},
   "outputs": [],
   "source": [
    "def Common_withset(x,y):\n",
    "    try:\n",
    "        c=[i for i in set(x) if i in set(y)]\n",
    "        return c\n",
    "    except:\n",
    "        print('there was a mistake in the code')"
   ]
  },
  {
   "cell_type": "code",
   "execution_count": 15,
   "metadata": {},
   "outputs": [
    {
     "name": "stdout",
     "output_type": "stream",
     "text": [
      "[0, 1, 3, 4, 5, 6, 7, 8, 9, 10, 11, 12, 13, 14, 15, 18, 19, 20, 21, 22, 23, 24, 25, 27, 28, 29, 30, 31, 32, 33, 34, 35, 36, 37, 38, 39, 40, 41, 42, 43, 44, 46, 47, 48, 49]\n"
     ]
    }
   ],
   "source": [
    "print(Common_withset(a,b))"
   ]
  },
  {
   "cell_type": "code",
   "execution_count": null,
   "metadata": {},
   "outputs": [],
   "source": []
  }
 ],
 "metadata": {
  "kernelspec": {
   "display_name": "Python 3",
   "language": "python",
   "name": "python3"
  },
  "language_info": {
   "codemirror_mode": {
    "name": "ipython",
    "version": 3
   },
   "file_extension": ".py",
   "mimetype": "text/x-python",
   "name": "python",
   "nbconvert_exporter": "python",
   "pygments_lexer": "ipython3",
   "version": "3.8.1"
  }
 },
 "nbformat": 4,
 "nbformat_minor": 4
}
